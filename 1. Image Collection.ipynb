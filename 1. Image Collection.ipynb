{
 "cells": [
  {
   "cell_type": "markdown",
   "metadata": {},
   "source": [
    "# 1. Import Dependencies"
   ]
  },
  {
   "cell_type": "code",
   "execution_count": 24,
   "metadata": {},
   "outputs": [
    {
     "name": "stdout",
     "output_type": "stream",
     "text": [
      "Requirement already satisfied: opencv-python in d:\\test\\tfodcourse\\tfod\\lib\\site-packages (4.8.0.76)\n",
      "Requirement already satisfied: numpy>=1.21.2 in d:\\test\\tfodcourse\\tfod\\lib\\site-packages (from opencv-python) (1.25.2)\n"
     ]
    }
   ],
   "source": [
    "!pip install opencv-python"
   ]
  },
  {
   "cell_type": "code",
   "execution_count": 25,
   "metadata": {},
   "outputs": [],
   "source": [
    "# Import opencv\n",
    "import cv2 \n",
    "\n",
    "# Import uuid\n",
    "import uuid\n",
    "\n",
    "# Import Operating System\n",
    "import os\n",
    "\n",
    "# Import time\n",
    "import time"
   ]
  },
  {
   "cell_type": "markdown",
   "metadata": {},
   "source": [
    "# 2. Define Images to Collect"
   ]
  },
  {
   "cell_type": "code",
   "execution_count": 26,
   "metadata": {},
   "outputs": [],
   "source": [
    "labels = ['car', 'smoking']\n",
    "number_imgs = 5"
   ]
  },
  {
   "cell_type": "markdown",
   "metadata": {},
   "source": [
    "# 3. Setup Folders "
   ]
  },
  {
   "cell_type": "code",
   "execution_count": 27,
   "metadata": {},
   "outputs": [],
   "source": [
    "IMAGES_PATH = os.path.join('Tensorflow', 'workspace', 'images', 'collectedimages')"
   ]
  },
  {
   "cell_type": "code",
   "execution_count": 28,
   "metadata": {},
   "outputs": [],
   "source": [
    "if not os.path.exists(IMAGES_PATH):\n",
    "    if os.name == 'posix':\n",
    "        !mkdir -p {IMAGES_PATH}\n",
    "    if os.name == 'nt':\n",
    "         !mkdir {IMAGES_PATH}\n",
    "for label in labels:\n",
    "    path = os.path.join(IMAGES_PATH, label)\n",
    "    if not os.path.exists(path):\n",
    "        !mkdir {path}"
   ]
  },
  {
   "cell_type": "markdown",
   "metadata": {},
   "source": [
    "# 4. Capture Images"
   ]
  },
  {
   "cell_type": "code",
   "execution_count": 6,
   "metadata": {},
   "outputs": [
    {
     "name": "stdout",
     "output_type": "stream",
     "text": [
      "Collecting images for car\n",
      "Collecting image 0\n",
      "Collecting image 1\n",
      "Collecting image 2\n",
      "Collecting image 3\n",
      "Collecting image 4\n",
      "Collecting images for smoking\n",
      "Collecting image 0\n",
      "Collecting image 1\n",
      "Collecting image 2\n",
      "Collecting image 3\n",
      "Collecting image 4\n"
     ]
    }
   ],
   "source": [
    "#capturing images through webcam\n",
    "for label in labels:\n",
    "    cap = cv2.VideoCapture(0)\n",
    "    print('Collecting images for {}'.format(label))\n",
    "    time.sleep(5)\n",
    "    for imgnum in range(number_imgs):\n",
    "        print('Collecting image {}'.format(imgnum))\n",
    "        ret, frame = cap.read()\n",
    "        imgname = os.path.join(IMAGES_PATH,label,label+'.'+'{}.jpg'.format(str(uuid.uuid1())))\n",
    "        cv2.imwrite(imgname, frame)\n",
    "        cv2.imshow('frame', frame)\n",
    "        time.sleep(2)\n",
    "\n",
    "        if cv2.waitKey(1) & 0xFF == ord('q'):\n",
    "            break\n",
    "cap.release()\n",
    "cv2.destroyAllWindows()"
   ]
  },
  {
   "cell_type": "markdown",
   "metadata": {},
   "source": [
    "# 5. Image Labelling"
   ]
  },
  {
   "cell_type": "code",
   "execution_count": 29,
   "metadata": {},
   "outputs": [
    {
     "name": "stdout",
     "output_type": "stream",
     "text": [
      "Requirement already satisfied: pyqt5 in d:\\test\\tfodcourse\\tfod\\lib\\site-packages (5.15.9)\n",
      "Requirement already satisfied: lxml in d:\\test\\tfodcourse\\tfod\\lib\\site-packages (4.9.3)\n",
      "Requirement already satisfied: PyQt5-sip<13,>=12.11 in d:\\test\\tfodcourse\\tfod\\lib\\site-packages (from pyqt5) (12.12.2)\n",
      "Requirement already satisfied: PyQt5-Qt5>=5.15.2 in d:\\test\\tfodcourse\\tfod\\lib\\site-packages (from pyqt5) (5.15.2)\n"
     ]
    }
   ],
   "source": [
    "!pip install --upgrade pyqt5 lxml"
   ]
  },
  {
   "cell_type": "code",
   "execution_count": 30,
   "metadata": {},
   "outputs": [],
   "source": [
    "LABELIMG_PATH = os.path.join('Tensorflow', 'labelimg')"
   ]
  },
  {
   "cell_type": "code",
   "execution_count": 32,
   "metadata": {},
   "outputs": [],
   "source": [
    "if os.name == 'posix':\n",
    "    !make qt5py3\n",
    "if os.name =='nt':\n",
    "    !cd {LABELIMG_PATH} && pyrcc5 -o libs/resources.py resources.qrc"
   ]
  },
  {
   "cell_type": "code",
   "execution_count": 33,
   "metadata": {},
   "outputs": [
    {
     "name": "stdout",
     "output_type": "stream",
     "text": [
      "Image:D:\\test\\TFODCourse\\Tensorflow\\workspace\\images\\collectedimages\\car\\0a1ea4614a9df912eeb8d1b40bffee74.jpg -> Annotation:D:/test/TFODCourse/Tensorflow/workspace/images/collectedimages/car\\0a1ea4614a9df912eeb8d1b40bffee74.xml\n",
      "Cancel creation.\n",
      "Image:D:\\test\\TFODCourse\\Tensorflow\\workspace\\images\\collectedimages\\car\\0a6e61d19443e62f7fffe643e327954e.jpg -> Annotation:D:/test/TFODCourse/Tensorflow/workspace/images/collectedimages/car\\0a6e61d19443e62f7fffe643e327954e.xml\n",
      "Cancel creation.\n",
      "Image:D:\\test\\TFODCourse\\Tensorflow\\workspace\\images\\collectedimages\\car\\0a7bda3ef30b632b39a18a2c34bcc872.jpg -> Annotation:D:/test/TFODCourse/Tensorflow/workspace/images/collectedimages/car\\0a7bda3ef30b632b39a18a2c34bcc872.xml\n",
      "Cancel creation.\n",
      "Cancel creation.\n",
      "Image:D:\\test\\TFODCourse\\Tensorflow\\workspace\\images\\collectedimages\\car\\0a9c0e283b2068a74e40ddd25251a0c8.jpg -> Annotation:D:/test/TFODCourse/Tensorflow/workspace/images/collectedimages/car\\0a9c0e283b2068a74e40ddd25251a0c8.xml\n",
      "Image:D:\\test\\TFODCourse\\Tensorflow\\workspace\\images\\collectedimages\\car\\0a23d1c51c12eff5ae6f6c47a39fe7f1.jpg -> Annotation:D:/test/TFODCourse/Tensorflow/workspace/images/collectedimages/car\\0a23d1c51c12eff5ae6f6c47a39fe7f1.xml\n",
      "Cancel creation.\n",
      "Image:D:\\test\\TFODCourse\\Tensorflow\\workspace\\images\\collectedimages\\car\\0a31a59eeadbcbeee9949dd74af7081b.jpg -> Annotation:D:/test/TFODCourse/Tensorflow/workspace/images/collectedimages/car\\0a31a59eeadbcbeee9949dd74af7081b.xml\n",
      "Image:D:\\test\\TFODCourse\\Tensorflow\\workspace\\images\\collectedimages\\car\\0a060c50f1dcd53eb262f96501a8ac95.jpg -> Annotation:D:/test/TFODCourse/Tensorflow/workspace/images/collectedimages/car\\0a060c50f1dcd53eb262f96501a8ac95.xml\n",
      "Cancel creation.\n",
      "Image:D:\\test\\TFODCourse\\Tensorflow\\workspace\\images\\collectedimages\\car\\0a82e45ed11fb9ef1620a0b40cd9f6d8.jpg -> Annotation:D:/test/TFODCourse/Tensorflow/workspace/images/collectedimages/car\\0a82e45ed11fb9ef1620a0b40cd9f6d8.xml\n",
      "Image:D:\\test\\TFODCourse\\Tensorflow\\workspace\\images\\collectedimages\\car\\0a584ddb325ed1ab4083d341280caaa8.jpg -> Annotation:D:/test/TFODCourse/Tensorflow/workspace/images/collectedimages/car\\0a584ddb325ed1ab4083d341280caaa8.xml\n",
      "Cancel creation.\n",
      "Image:D:\\test\\TFODCourse\\Tensorflow\\workspace\\images\\collectedimages\\car\\0a72289b0b455d083ed606f24504d74c.jpg -> Annotation:D:/test/TFODCourse/Tensorflow/workspace/images/collectedimages/car\\0a72289b0b455d083ed606f24504d74c.xml\n",
      "Image:D:\\test\\TFODCourse\\Tensorflow\\workspace\\images\\collectedimages\\car\\0a281913e0b0d36b1484348ec6014544.jpg -> Annotation:D:/test/TFODCourse/Tensorflow/workspace/images/collectedimages/car\\0a281913e0b0d36b1484348ec6014544.xml\n",
      "Cancel creation.\n",
      "Image:D:\\test\\TFODCourse\\Tensorflow\\workspace\\images\\collectedimages\\car\\0a2395009a83ce904b3e707a98d78334.jpg -> Annotation:D:/test/TFODCourse/Tensorflow/workspace/images/collectedimages/car\\0a2395009a83ce904b3e707a98d78334.xml\n",
      "Image:D:\\test\\TFODCourse\\Tensorflow\\workspace\\images\\collectedimages\\car\\0ab5f928355f3480a1922dbfde1521f0.jpg -> Annotation:D:/test/TFODCourse/Tensorflow/workspace/images/collectedimages/car\\0ab5f928355f3480a1922dbfde1521f0.xml\n",
      "Cancel creation.\n",
      "Image:D:\\test\\TFODCourse\\Tensorflow\\workspace\\images\\collectedimages\\car\\0ab8f4c4a3de27c56737833a7a27346c.jpg -> Annotation:D:/test/TFODCourse/Tensorflow/workspace/images/collectedimages/car\\0ab8f4c4a3de27c56737833a7a27346c.xml\n",
      "Image:D:\\test\\TFODCourse\\Tensorflow\\workspace\\images\\collectedimages\\car\\0ab800b68e72698028b4b3d8c7e7a212.jpg -> Annotation:D:/test/TFODCourse/Tensorflow/workspace/images/collectedimages/car\\0ab800b68e72698028b4b3d8c7e7a212.xml\n",
      "Image:D:\\test\\TFODCourse\\Tensorflow\\workspace\\images\\collectedimages\\car\\0ab67254ad39838a049e8b1167137145.jpg -> Annotation:D:/test/TFODCourse/Tensorflow/workspace/images/collectedimages/car\\0ab67254ad39838a049e8b1167137145.xml\n",
      "Cancel creation.\n",
      "Image:D:\\test\\TFODCourse\\Tensorflow\\workspace\\images\\collectedimages\\car\\0ab45975869f5f6e5a1428f8d00c5987.jpg -> Annotation:D:/test/TFODCourse/Tensorflow/workspace/images/collectedimages/car\\0ab45975869f5f6e5a1428f8d00c5987.xml\n",
      "Image:D:\\test\\TFODCourse\\Tensorflow\\workspace\\images\\collectedimages\\car\\0ac01d1803865c7ce0f88f9775de11a8.jpg -> Annotation:D:/test/TFODCourse/Tensorflow/workspace/images/collectedimages/car\\0ac01d1803865c7ce0f88f9775de11a8.xml\n",
      "Image:D:\\test\\TFODCourse\\Tensorflow\\workspace\\images\\collectedimages\\car\\0acc677275be3b47e1fe32540586619e.jpg -> Annotation:D:/test/TFODCourse/Tensorflow/workspace/images/collectedimages/car\\0acc677275be3b47e1fe32540586619e.xml\n",
      "Image:D:\\test\\TFODCourse\\Tensorflow\\workspace\\images\\collectedimages\\car\\0accacf1a65fa522ce87ecf98b00a05b.jpg -> Annotation:D:/test/TFODCourse/Tensorflow/workspace/images/collectedimages/car\\0accacf1a65fa522ce87ecf98b00a05b.xml\n",
      "Image:D:\\test\\TFODCourse\\Tensorflow\\workspace\\images\\collectedimages\\car\\0ad9db7f888140d987adedd258a9130e.jpg -> Annotation:D:/test/TFODCourse/Tensorflow/workspace/images/collectedimages/car\\0ad9db7f888140d987adedd258a9130e.xml\n",
      "Image:D:\\test\\TFODCourse\\Tensorflow\\workspace\\images\\collectedimages\\car\\0adda1adc06e0b8d857a62e80649b902.jpg -> Annotation:D:/test/TFODCourse/Tensorflow/workspace/images/collectedimages/car\\0adda1adc06e0b8d857a62e80649b902.xml\n",
      "Cancel creation.\n",
      "Image:D:\\test\\TFODCourse\\Tensorflow\\workspace\\images\\collectedimages\\car\\0ae7702104c8b5936655ae8035636772.jpg -> Annotation:D:/test/TFODCourse/Tensorflow/workspace/images/collectedimages/car\\0ae7702104c8b5936655ae8035636772.xml\n",
      "Cancel creation.\n",
      "Image:D:\\test\\TFODCourse\\Tensorflow\\workspace\\images\\collectedimages\\car\\000b0fd767c5ab2656b7ed8d43674777.jpg -> Annotation:D:/test/TFODCourse/Tensorflow/workspace/images/collectedimages/car\\000b0fd767c5ab2656b7ed8d43674777.xml\n",
      "Image:D:\\test\\TFODCourse\\Tensorflow\\workspace\\images\\collectedimages\\car\\00b3b796ce8512d228db5bc129049b19.jpg -> Annotation:D:/test/TFODCourse/Tensorflow/workspace/images/collectedimages/car\\00b3b796ce8512d228db5bc129049b19.xml\n",
      "Image:D:\\test\\TFODCourse\\Tensorflow\\workspace\\images\\collectedimages\\car\\00b5fc2d3153637e65a35363295e14ba.jpg -> Annotation:D:/test/TFODCourse/Tensorflow/workspace/images/collectedimages/car\\00b5fc2d3153637e65a35363295e14ba.xml\n",
      "Image:D:\\test\\TFODCourse\\Tensorflow\\workspace\\images\\collectedimages\\car\\00b48429c1382cc7d1c72926acedbaa7.jpg -> Annotation:D:/test/TFODCourse/Tensorflow/workspace/images/collectedimages/car\\00b48429c1382cc7d1c72926acedbaa7.xml\n",
      "Image:D:\\test\\TFODCourse\\Tensorflow\\workspace\\images\\collectedimages\\car\\00bb84f0f10393189e229e52f4b2f652.jpg -> Annotation:D:/test/TFODCourse/Tensorflow/workspace/images/collectedimages/car\\00bb84f0f10393189e229e52f4b2f652.xml\n",
      "Image:D:\\test\\TFODCourse\\Tensorflow\\workspace\\images\\collectedimages\\car\\00bce25b1d3a3422bb366a12e3e9ac6a.jpg -> Annotation:D:/test/TFODCourse/Tensorflow/workspace/images/collectedimages/car\\00bce25b1d3a3422bb366a12e3e9ac6a.xml\n",
      "Image:D:\\test\\TFODCourse\\Tensorflow\\workspace\\images\\collectedimages\\car\\00d94c51444ae4b99e598c94cceb3ba4.jpg -> Annotation:D:/test/TFODCourse/Tensorflow/workspace/images/collectedimages/car\\00d94c51444ae4b99e598c94cceb3ba4.xml\n",
      "Image:D:\\test\\TFODCourse\\Tensorflow\\workspace\\images\\collectedimages\\car\\00dae25f50802c09639f97b2dec7dca5.jpg -> Annotation:D:/test/TFODCourse/Tensorflow/workspace/images/collectedimages/car\\00dae25f50802c09639f97b2dec7dca5.xml\n",
      "Image:D:\\test\\TFODCourse\\Tensorflow\\workspace\\images\\collectedimages\\car\\00df7d46d661eba176ccc167f2763585.jpg -> Annotation:D:/test/TFODCourse/Tensorflow/workspace/images/collectedimages/car\\00df7d46d661eba176ccc167f2763585.xml\n",
      "Image:D:\\test\\TFODCourse\\Tensorflow\\workspace\\images\\collectedimages\\car\\00dfd4598684d7d0914304ab05719ef7.jpg -> Annotation:D:/test/TFODCourse/Tensorflow/workspace/images/collectedimages/car\\00dfd4598684d7d0914304ab05719ef7.xml\n",
      "Cancel creation.\n",
      "Image:D:\\test\\TFODCourse\\Tensorflow\\workspace\\images\\collectedimages\\car\\00e6e7833a17108274aa01275cafcaa9.jpg -> Annotation:D:/test/TFODCourse/Tensorflow/workspace/images/collectedimages/car\\00e6e7833a17108274aa01275cafcaa9.xml\n",
      "Image:D:\\test\\TFODCourse\\Tensorflow\\workspace\\images\\collectedimages\\car\\000ed1547634a24f09f22530065d46c9.jpg -> Annotation:D:/test/TFODCourse/Tensorflow/workspace/images/collectedimages/car\\000ed1547634a24f09f22530065d46c9.xml\n",
      "Image:D:\\test\\TFODCourse\\Tensorflow\\workspace\\images\\collectedimages\\car\\00f6cb1c7473f12ea482dceaad648470.jpg -> Annotation:D:/test/TFODCourse/Tensorflow/workspace/images/collectedimages/car\\00f6cb1c7473f12ea482dceaad648470.xml\n",
      "Image:D:\\test\\TFODCourse\\Tensorflow\\workspace\\images\\collectedimages\\car\\00f12b9ba667d2c9e60aabf56afc5c6c.jpg -> Annotation:D:/test/TFODCourse/Tensorflow/workspace/images/collectedimages/car\\00f12b9ba667d2c9e60aabf56afc5c6c.xml\n",
      "Image:D:\\test\\TFODCourse\\Tensorflow\\workspace\\images\\collectedimages\\car\\00f54ee82124ff35d346d15145475ab4.jpg -> Annotation:D:/test/TFODCourse/Tensorflow/workspace/images/collectedimages/car\\00f54ee82124ff35d346d15145475ab4.xml\n",
      "Cancel creation.\n",
      "Cancel creation.\n",
      "Image:D:\\test\\TFODCourse\\Tensorflow\\workspace\\images\\collectedimages\\car\\00f079ed418b1cb2cfb5aa2d11dfea03.jpg -> Annotation:D:/test/TFODCourse/Tensorflow/workspace/images/collectedimages/car\\00f079ed418b1cb2cfb5aa2d11dfea03.xml\n",
      "Image:D:\\test\\TFODCourse\\Tensorflow\\workspace\\images\\collectedimages\\smoking\\0_KcGa7w0Sz8Do6Rdx_jpg.rf.16d3f96b729ea62447f9c8d87bdf22f3.jpg -> Annotation:D:/test/TFODCourse/Tensorflow/workspace/images/collectedimages/smoking\\0_KcGa7w0Sz8Do6Rdx_jpg.rf.16d3f96b729ea62447f9c8d87bdf22f3.xml\n",
      "Image:D:\\test\\TFODCourse\\Tensorflow\\workspace\\images\\collectedimages\\smoking\\0_KcGa7w0Sz8Do6Rdx_jpg.rf.cf33ca3e38b9182e5d165d6cc4be418c.jpg -> Annotation:D:/test/TFODCourse/Tensorflow/workspace/images/collectedimages/smoking\\0_KcGa7w0Sz8Do6Rdx_jpg.rf.cf33ca3e38b9182e5d165d6cc4be418c.xml\n",
      "Image:D:\\test\\TFODCourse\\Tensorflow\\workspace\\images\\collectedimages\\smoking\\0_KcGa7w0Sz8Do6Rdx_jpg.rf.d1cf60817d2eda1ad7de74efdafb30df.jpg -> Annotation:D:/test/TFODCourse/Tensorflow/workspace/images/collectedimages/smoking\\0_KcGa7w0Sz8Do6Rdx_jpg.rf.d1cf60817d2eda1ad7de74efdafb30df.xml\n",
      "Image:D:\\test\\TFODCourse\\Tensorflow\\workspace\\images\\collectedimages\\smoking\\1--1-_jpeg.rf.6bca471bae99c515fecf5a6f7e95a876.jpg -> Annotation:D:/test/TFODCourse/Tensorflow/workspace/images/collectedimages/smoking\\1--1-_jpeg.rf.6bca471bae99c515fecf5a6f7e95a876.xml\n",
      "Cancel creation.\n",
      "Image:D:\\test\\TFODCourse\\Tensorflow\\workspace\\images\\collectedimages\\smoking\\1--1-_jpeg.rf.b2b31150d5d4014655f37d9b1dd2d0b7.jpg -> Annotation:D:/test/TFODCourse/Tensorflow/workspace/images/collectedimages/smoking\\1--1-_jpeg.rf.b2b31150d5d4014655f37d9b1dd2d0b7.xml\n",
      "Image:D:\\test\\TFODCourse\\Tensorflow\\workspace\\images\\collectedimages\\smoking\\1--1-_jpeg.rf.f2c153c1e55df856752ef7c5a3f39050.jpg -> Annotation:D:/test/TFODCourse/Tensorflow/workspace/images/collectedimages/smoking\\1--1-_jpeg.rf.f2c153c1e55df856752ef7c5a3f39050.xml\n",
      "Image:D:\\test\\TFODCourse\\Tensorflow\\workspace\\images\\collectedimages\\smoking\\1--2-_jpeg.rf.2b56425a3568138e0644bc0b123c92d8.jpg -> Annotation:D:/test/TFODCourse/Tensorflow/workspace/images/collectedimages/smoking\\1--2-_jpeg.rf.2b56425a3568138e0644bc0b123c92d8.xml\n",
      "Image:D:\\test\\TFODCourse\\Tensorflow\\workspace\\images\\collectedimages\\smoking\\1--2-_jpeg.rf.f28b8b4194440ec82381aea40660646d.jpg -> Annotation:D:/test/TFODCourse/Tensorflow/workspace/images/collectedimages/smoking\\1--2-_jpeg.rf.f28b8b4194440ec82381aea40660646d.xml\n",
      "Image:D:\\test\\TFODCourse\\Tensorflow\\workspace\\images\\collectedimages\\smoking\\1--2-_jpeg.rf.faeb863b89af424aa290a1cc14403402.jpg -> Annotation:D:/test/TFODCourse/Tensorflow/workspace/images/collectedimages/smoking\\1--2-_jpeg.rf.faeb863b89af424aa290a1cc14403402.xml\n",
      "Image:D:\\test\\TFODCourse\\Tensorflow\\workspace\\images\\collectedimages\\smoking\\1--3-_jpeg.rf.6b55a6cad3200bff3a28ea375425074f.jpg -> Annotation:D:/test/TFODCourse/Tensorflow/workspace/images/collectedimages/smoking\\1--3-_jpeg.rf.6b55a6cad3200bff3a28ea375425074f.xml\n",
      "Image:D:\\test\\TFODCourse\\Tensorflow\\workspace\\images\\collectedimages\\smoking\\1--3-_jpeg.rf.138da14956cc17f5822f34d7af0ff621.jpg -> Annotation:D:/test/TFODCourse/Tensorflow/workspace/images/collectedimages/smoking\\1--3-_jpeg.rf.138da14956cc17f5822f34d7af0ff621.xml\n",
      "Image:D:\\test\\TFODCourse\\Tensorflow\\workspace\\images\\collectedimages\\smoking\\1--3-_jpeg.rf.0502f5c064c95dd17da4ace33b02a032.jpg -> Annotation:D:/test/TFODCourse/Tensorflow/workspace/images/collectedimages/smoking\\1--3-_jpeg.rf.0502f5c064c95dd17da4ace33b02a032.xml\n",
      "Image:D:\\test\\TFODCourse\\Tensorflow\\workspace\\images\\collectedimages\\smoking\\1--5-_jpeg.rf.4b7b80baabf988aa8ffd3afa68a0a581.jpg -> Annotation:D:/test/TFODCourse/Tensorflow/workspace/images/collectedimages/smoking\\1--5-_jpeg.rf.4b7b80baabf988aa8ffd3afa68a0a581.xml\n",
      "Image:D:\\test\\TFODCourse\\Tensorflow\\workspace\\images\\collectedimages\\smoking\\1--5-_jpeg.rf.5a2f0784b7d26744f777cf8fee661747.jpg -> Annotation:D:/test/TFODCourse/Tensorflow/workspace/images/collectedimages/smoking\\1--5-_jpeg.rf.5a2f0784b7d26744f777cf8fee661747.xml\n",
      "Image:D:\\test\\TFODCourse\\Tensorflow\\workspace\\images\\collectedimages\\smoking\\1--5-_jpeg.rf.52e86863907aac52ee67e9b92404fc0a.jpg -> Annotation:D:/test/TFODCourse/Tensorflow/workspace/images/collectedimages/smoking\\1--5-_jpeg.rf.52e86863907aac52ee67e9b92404fc0a.xml\n",
      "Image:D:\\test\\TFODCourse\\Tensorflow\\workspace\\images\\collectedimages\\smoking\\1--6-_jpeg.rf.48e2535ec940dcc0423d16b8d8defacb.jpg -> Annotation:D:/test/TFODCourse/Tensorflow/workspace/images/collectedimages/smoking\\1--6-_jpeg.rf.48e2535ec940dcc0423d16b8d8defacb.xml\n",
      "Image:D:\\test\\TFODCourse\\Tensorflow\\workspace\\images\\collectedimages\\smoking\\1--6-_jpeg.rf.092f23578f5879b9e036c53329127e59.jpg -> Annotation:D:/test/TFODCourse/Tensorflow/workspace/images/collectedimages/smoking\\1--6-_jpeg.rf.092f23578f5879b9e036c53329127e59.xml\n",
      "Image:D:\\test\\TFODCourse\\Tensorflow\\workspace\\images\\collectedimages\\smoking\\1--6-_jpeg.rf.c0bdbec0ddf274d2356d5bd05a684a06.jpg -> Annotation:D:/test/TFODCourse/Tensorflow/workspace/images/collectedimages/smoking\\1--6-_jpeg.rf.c0bdbec0ddf274d2356d5bd05a684a06.xml\n",
      "Image:D:\\test\\TFODCourse\\Tensorflow\\workspace\\images\\collectedimages\\smoking\\1--7-_jpeg.rf.3fc252a75582a40186b350b5b98007aa.jpg -> Annotation:D:/test/TFODCourse/Tensorflow/workspace/images/collectedimages/smoking\\1--7-_jpeg.rf.3fc252a75582a40186b350b5b98007aa.xml\n",
      "Image:D:\\test\\TFODCourse\\Tensorflow\\workspace\\images\\collectedimages\\smoking\\1--7-_jpeg.rf.cda30a3912e856836af1325a60e53590.jpg -> Annotation:D:/test/TFODCourse/Tensorflow/workspace/images/collectedimages/smoking\\1--7-_jpeg.rf.cda30a3912e856836af1325a60e53590.xml\n",
      "Image:D:\\test\\TFODCourse\\Tensorflow\\workspace\\images\\collectedimages\\smoking\\1--7-_jpeg.rf.e871783bd4fe6f7c64c080e5d253ccdb.jpg -> Annotation:D:/test/TFODCourse/Tensorflow/workspace/images/collectedimages/smoking\\1--7-_jpeg.rf.e871783bd4fe6f7c64c080e5d253ccdb.xml\n",
      "Image:D:\\test\\TFODCourse\\Tensorflow\\workspace\\images\\collectedimages\\smoking\\1--8-_jpeg.rf.9d1080b1a3d08a2984db93a658d570c3.jpg -> Annotation:D:/test/TFODCourse/Tensorflow/workspace/images/collectedimages/smoking\\1--8-_jpeg.rf.9d1080b1a3d08a2984db93a658d570c3.xml\n",
      "Image:D:\\test\\TFODCourse\\Tensorflow\\workspace\\images\\collectedimages\\smoking\\1--8-_jpeg.rf.b660959b7c1f69ebf6b3253ca41fca01.jpg -> Annotation:D:/test/TFODCourse/Tensorflow/workspace/images/collectedimages/smoking\\1--8-_jpeg.rf.b660959b7c1f69ebf6b3253ca41fca01.xml\n",
      "Image:D:\\test\\TFODCourse\\Tensorflow\\workspace\\images\\collectedimages\\smoking\\1_jpg.rf.0e38b3bf14f9a113facb868d2b748b19.jpg -> Annotation:D:/test/TFODCourse/Tensorflow/workspace/images/collectedimages/smoking\\1_jpg.rf.0e38b3bf14f9a113facb868d2b748b19.xml\n",
      "Image:D:\\test\\TFODCourse\\Tensorflow\\workspace\\images\\collectedimages\\smoking\\1_jpg.rf.5d63185019a5f1c4a56739f1b1be33ba.jpg -> Annotation:D:/test/TFODCourse/Tensorflow/workspace/images/collectedimages/smoking\\1_jpg.rf.5d63185019a5f1c4a56739f1b1be33ba.xml\n",
      "Image:D:\\test\\TFODCourse\\Tensorflow\\workspace\\images\\collectedimages\\smoking\\1_jpg.rf.8b29297f086edc040d023d340ef05f7f.jpg -> Annotation:D:/test/TFODCourse/Tensorflow/workspace/images/collectedimages/smoking\\1_jpg.rf.8b29297f086edc040d023d340ef05f7f.xml\n",
      "Image:D:\\test\\TFODCourse\\Tensorflow\\workspace\\images\\collectedimages\\smoking\\1_jpg.rf.83c60c7b8bbc7372417464f63c3b2b5f.jpg -> Annotation:D:/test/TFODCourse/Tensorflow/workspace/images/collectedimages/smoking\\1_jpg.rf.83c60c7b8bbc7372417464f63c3b2b5f.xml\n",
      "Image:D:\\test\\TFODCourse\\Tensorflow\\workspace\\images\\collectedimages\\smoking\\1_jpg.rf.c35d2b87228b25c01449f097a1c7600f.jpg -> Annotation:D:/test/TFODCourse/Tensorflow/workspace/images/collectedimages/smoking\\1_jpg.rf.c35d2b87228b25c01449f097a1c7600f.xml\n",
      "Image:D:\\test\\TFODCourse\\Tensorflow\\workspace\\images\\collectedimages\\smoking\\1_jpg.rf.e13fe2bf2e9511831712ad7c4d1b2378.jpg -> Annotation:D:/test/TFODCourse/Tensorflow/workspace/images/collectedimages/smoking\\1_jpg.rf.e13fe2bf2e9511831712ad7c4d1b2378.xml\n",
      "Image:D:\\test\\TFODCourse\\Tensorflow\\workspace\\images\\collectedimages\\smoking\\2_jpg.rf.3b197b8f0330ca76421996bd597b14c8.jpg -> Annotation:D:/test/TFODCourse/Tensorflow/workspace/images/collectedimages/smoking\\2_jpg.rf.3b197b8f0330ca76421996bd597b14c8.xml\n",
      "Image:D:\\test\\TFODCourse\\Tensorflow\\workspace\\images\\collectedimages\\smoking\\2_jpg.rf.7fe755148a6016deec59da37e4dad503.jpg -> Annotation:D:/test/TFODCourse/Tensorflow/workspace/images/collectedimages/smoking\\2_jpg.rf.7fe755148a6016deec59da37e4dad503.xml\n",
      "Image:D:\\test\\TFODCourse\\Tensorflow\\workspace\\images\\collectedimages\\smoking\\2_jpg.rf.369e56f9af9df37a99f6f7668b98fb1e.jpg -> Annotation:D:/test/TFODCourse/Tensorflow/workspace/images/collectedimages/smoking\\2_jpg.rf.369e56f9af9df37a99f6f7668b98fb1e.xml\n",
      "Image:D:\\test\\TFODCourse\\Tensorflow\\workspace\\images\\collectedimages\\smoking\\2_jpg.rf.581fe76663f439bc9ebfaaeb8979501e.jpg -> Annotation:D:/test/TFODCourse/Tensorflow/workspace/images/collectedimages/smoking\\2_jpg.rf.581fe76663f439bc9ebfaaeb8979501e.xml\n",
      "Image:D:\\test\\TFODCourse\\Tensorflow\\workspace\\images\\collectedimages\\smoking\\2_jpg.rf.734fab02d87e41a20ec5e44418061915.jpg -> Annotation:D:/test/TFODCourse/Tensorflow/workspace/images/collectedimages/smoking\\2_jpg.rf.734fab02d87e41a20ec5e44418061915.xml\n",
      "Image:D:\\test\\TFODCourse\\Tensorflow\\workspace\\images\\collectedimages\\smoking\\2_jpg.rf.3768c099a5e4516cfc1660eb5d8c9a14.jpg -> Annotation:D:/test/TFODCourse/Tensorflow/workspace/images/collectedimages/smoking\\2_jpg.rf.3768c099a5e4516cfc1660eb5d8c9a14.xml\n",
      "Image:D:\\test\\TFODCourse\\Tensorflow\\workspace\\images\\collectedimages\\smoking\\2_jpg.rf.10898a5c071e6909c4e255c318af2c7a.jpg -> Annotation:D:/test/TFODCourse/Tensorflow/workspace/images/collectedimages/smoking\\2_jpg.rf.10898a5c071e6909c4e255c318af2c7a.xml\n",
      "Image:D:\\test\\TFODCourse\\Tensorflow\\workspace\\images\\collectedimages\\smoking\\2_jpg.rf.95616e1e90742c34050991e274c39eb5.jpg -> Annotation:D:/test/TFODCourse/Tensorflow/workspace/images/collectedimages/smoking\\2_jpg.rf.95616e1e90742c34050991e274c39eb5.xml\n",
      "Image:D:\\test\\TFODCourse\\Tensorflow\\workspace\\images\\collectedimages\\smoking\\2_jpg.rf.a4bbb2a9d07615f5fe998e22b74421ed.jpg -> Annotation:D:/test/TFODCourse/Tensorflow/workspace/images/collectedimages/smoking\\2_jpg.rf.a4bbb2a9d07615f5fe998e22b74421ed.xml\n",
      "Image:D:\\test\\TFODCourse\\Tensorflow\\workspace\\images\\collectedimages\\smoking\\2_jpg.rf.bdc4d26f38db21ab9e293e58823b5636.jpg -> Annotation:D:/test/TFODCourse/Tensorflow/workspace/images/collectedimages/smoking\\2_jpg.rf.bdc4d26f38db21ab9e293e58823b5636.xml\n",
      "Image:D:\\test\\TFODCourse\\Tensorflow\\workspace\\images\\collectedimages\\smoking\\2_jpg.rf.d50bd0cb8e88e65da043adf3f80b34cc.jpg -> Annotation:D:/test/TFODCourse/Tensorflow/workspace/images/collectedimages/smoking\\2_jpg.rf.d50bd0cb8e88e65da043adf3f80b34cc.xml\n",
      "Image:D:\\test\\TFODCourse\\Tensorflow\\workspace\\images\\collectedimages\\smoking\\2_jpg.rf.e1fd6266eace1869cc3ff767f2335ae4.jpg -> Annotation:D:/test/TFODCourse/Tensorflow/workspace/images/collectedimages/smoking\\2_jpg.rf.e1fd6266eace1869cc3ff767f2335ae4.xml\n",
      "Image:D:\\test\\TFODCourse\\Tensorflow\\workspace\\images\\collectedimages\\smoking\\3_jpg.rf.27fe7edfba8bed9f4efea6c156fdb9e2.jpg -> Annotation:D:/test/TFODCourse/Tensorflow/workspace/images/collectedimages/smoking\\3_jpg.rf.27fe7edfba8bed9f4efea6c156fdb9e2.xml\n",
      "Image:D:\\test\\TFODCourse\\Tensorflow\\workspace\\images\\collectedimages\\smoking\\3_jpg.rf.114e36dd917381bba345e7a590a4985e.jpg -> Annotation:D:/test/TFODCourse/Tensorflow/workspace/images/collectedimages/smoking\\3_jpg.rf.114e36dd917381bba345e7a590a4985e.xml\n",
      "Image:D:\\test\\TFODCourse\\Tensorflow\\workspace\\images\\collectedimages\\smoking\\3_jpg.rf.da4946e07e2a5e7b435978ece3369ed9.jpg -> Annotation:D:/test/TFODCourse/Tensorflow/workspace/images/collectedimages/smoking\\3_jpg.rf.da4946e07e2a5e7b435978ece3369ed9.xml\n",
      "Image:D:\\test\\TFODCourse\\Tensorflow\\workspace\\images\\collectedimages\\smoking\\5-e5a2_jpg.rf.1ab9567bce87e6e8a544fc3f8d712fcf.jpg -> Annotation:D:/test/TFODCourse/Tensorflow/workspace/images/collectedimages/smoking\\5-e5a2_jpg.rf.1ab9567bce87e6e8a544fc3f8d712fcf.xml\n",
      "Image:D:\\test\\TFODCourse\\Tensorflow\\workspace\\images\\collectedimages\\smoking\\5-e5a2_jpg.rf.5efb02f5fa3935d041002e784e5725ac.jpg -> Annotation:D:/test/TFODCourse/Tensorflow/workspace/images/collectedimages/smoking\\5-e5a2_jpg.rf.5efb02f5fa3935d041002e784e5725ac.xml\n"
     ]
    }
   ],
   "source": [
    "#manually labling images\n",
    "!cd {LABELIMG_PATH} && python labelImg.py"
   ]
  },
  {
   "cell_type": "markdown",
   "metadata": {},
   "source": [
    "# 6. Move them into a Training and Testing Partition"
   ]
  },
  {
   "cell_type": "markdown",
   "metadata": {},
   "source": [
    "# OPTIONAL - 7. Compress them for Colab Training"
   ]
  },
  {
   "cell_type": "code",
   "execution_count": 36,
   "metadata": {},
   "outputs": [],
   "source": [
    "TRAIN_PATH = os.path.join('Tensorflow', 'workspace', 'images', 'train')\n",
    "TEST_PATH = os.path.join('Tensorflow', 'workspace', 'images', 'test')\n",
    "ARCHIVE_PATH = os.path.join('Tensorflow', 'workspace', 'images', 'archive.tar.gz')"
   ]
  },
  {
   "cell_type": "code",
   "execution_count": 37,
   "metadata": {},
   "outputs": [
    {
     "name": "stderr",
     "output_type": "stream",
     "text": [
      "tar: ws\\System32\\Drivers\\?????????????????: Couldn't visit directory: No such file or directory\n",
      "tar: : Couldn't visit directory: No such file or directory\n",
      "tar: Error exit delayed from previous errors.\n"
     ]
    }
   ],
   "source": [
    "!tar -czf {ARCHIVE_PATH} {TRAIN_PATH} {TEST_PATH}"
   ]
  },
  {
   "cell_type": "code",
   "execution_count": null,
   "metadata": {},
   "outputs": [],
   "source": []
  }
 ],
 "metadata": {
  "kernelspec": {
   "display_name": "tfod",
   "language": "python",
   "name": "tfod"
  },
  "language_info": {
   "codemirror_mode": {
    "name": "ipython",
    "version": 3
   },
   "file_extension": ".py",
   "mimetype": "text/x-python",
   "name": "python",
   "nbconvert_exporter": "python",
   "pygments_lexer": "ipython3",
   "version": "3.10.6"
  }
 },
 "nbformat": 4,
 "nbformat_minor": 4
}
